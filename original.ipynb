{
  "nbformat": 4,
  "nbformat_minor": 0,
  "metadata": {
    "colab": {
      "provenance": []
    },
    "kernelspec": {
      "name": "python3",
      "display_name": "Python 3"
    },
    "language_info": {
      "name": "python"
    }
  },
  "cells": [
    {
      "cell_type": "code",
      "execution_count": null,
      "metadata": {
        "id": "oxAKY9h_HCZh"
      },
      "outputs": [],
      "source": [
        "import pandas as pd\n",
        "import seaborn as sns\n",
        "import matplotlib.pyplot as plt"
      ]
    },
    {
      "cell_type": "code",
      "source": [
        "df_censo = pd.read_csv('database_dropout.csv')\n",
        "\n",
        "df_censo.info()"
      ],
      "metadata": {
        "colab": {
          "base_uri": "https://localhost:8080/",
          "height": 351
        },
        "id": "9RFMQp22HZrs",
        "outputId": "47010cc4-4a67-47eb-9c6f-0559b66bf952"
      },
      "execution_count": null,
      "outputs": [
        {
          "output_type": "error",
          "ename": "FileNotFoundError",
          "evalue": "[Errno 2] No such file or directory: 'database_dropout.csv'",
          "traceback": [
            "\u001b[0;31m---------------------------------------------------------------------------\u001b[0m",
            "\u001b[0;31mFileNotFoundError\u001b[0m                         Traceback (most recent call last)",
            "\u001b[0;32m<ipython-input-2-4f10900d5517>\u001b[0m in \u001b[0;36m<cell line: 0>\u001b[0;34m()\u001b[0m\n\u001b[0;32m----> 1\u001b[0;31m \u001b[0mdf_censo\u001b[0m \u001b[0;34m=\u001b[0m \u001b[0mpd\u001b[0m\u001b[0;34m.\u001b[0m\u001b[0mread_csv\u001b[0m\u001b[0;34m(\u001b[0m\u001b[0;34m'database_dropout.csv'\u001b[0m\u001b[0;34m)\u001b[0m\u001b[0;34m\u001b[0m\u001b[0;34m\u001b[0m\u001b[0m\n\u001b[0m\u001b[1;32m      2\u001b[0m \u001b[0;34m\u001b[0m\u001b[0m\n\u001b[1;32m      3\u001b[0m \u001b[0mdf_censo\u001b[0m\u001b[0;34m.\u001b[0m\u001b[0minfo\u001b[0m\u001b[0;34m(\u001b[0m\u001b[0;34m)\u001b[0m\u001b[0;34m\u001b[0m\u001b[0;34m\u001b[0m\u001b[0m\n",
            "\u001b[0;32m/usr/local/lib/python3.11/dist-packages/pandas/io/parsers/readers.py\u001b[0m in \u001b[0;36mread_csv\u001b[0;34m(filepath_or_buffer, sep, delimiter, header, names, index_col, usecols, dtype, engine, converters, true_values, false_values, skipinitialspace, skiprows, skipfooter, nrows, na_values, keep_default_na, na_filter, verbose, skip_blank_lines, parse_dates, infer_datetime_format, keep_date_col, date_parser, date_format, dayfirst, cache_dates, iterator, chunksize, compression, thousands, decimal, lineterminator, quotechar, quoting, doublequote, escapechar, comment, encoding, encoding_errors, dialect, on_bad_lines, delim_whitespace, low_memory, memory_map, float_precision, storage_options, dtype_backend)\u001b[0m\n\u001b[1;32m   1024\u001b[0m     \u001b[0mkwds\u001b[0m\u001b[0;34m.\u001b[0m\u001b[0mupdate\u001b[0m\u001b[0;34m(\u001b[0m\u001b[0mkwds_defaults\u001b[0m\u001b[0;34m)\u001b[0m\u001b[0;34m\u001b[0m\u001b[0;34m\u001b[0m\u001b[0m\n\u001b[1;32m   1025\u001b[0m \u001b[0;34m\u001b[0m\u001b[0m\n\u001b[0;32m-> 1026\u001b[0;31m     \u001b[0;32mreturn\u001b[0m \u001b[0m_read\u001b[0m\u001b[0;34m(\u001b[0m\u001b[0mfilepath_or_buffer\u001b[0m\u001b[0;34m,\u001b[0m \u001b[0mkwds\u001b[0m\u001b[0;34m)\u001b[0m\u001b[0;34m\u001b[0m\u001b[0;34m\u001b[0m\u001b[0m\n\u001b[0m\u001b[1;32m   1027\u001b[0m \u001b[0;34m\u001b[0m\u001b[0m\n\u001b[1;32m   1028\u001b[0m \u001b[0;34m\u001b[0m\u001b[0m\n",
            "\u001b[0;32m/usr/local/lib/python3.11/dist-packages/pandas/io/parsers/readers.py\u001b[0m in \u001b[0;36m_read\u001b[0;34m(filepath_or_buffer, kwds)\u001b[0m\n\u001b[1;32m    618\u001b[0m \u001b[0;34m\u001b[0m\u001b[0m\n\u001b[1;32m    619\u001b[0m     \u001b[0;31m# Create the parser.\u001b[0m\u001b[0;34m\u001b[0m\u001b[0;34m\u001b[0m\u001b[0m\n\u001b[0;32m--> 620\u001b[0;31m     \u001b[0mparser\u001b[0m \u001b[0;34m=\u001b[0m \u001b[0mTextFileReader\u001b[0m\u001b[0;34m(\u001b[0m\u001b[0mfilepath_or_buffer\u001b[0m\u001b[0;34m,\u001b[0m \u001b[0;34m**\u001b[0m\u001b[0mkwds\u001b[0m\u001b[0;34m)\u001b[0m\u001b[0;34m\u001b[0m\u001b[0;34m\u001b[0m\u001b[0m\n\u001b[0m\u001b[1;32m    621\u001b[0m \u001b[0;34m\u001b[0m\u001b[0m\n\u001b[1;32m    622\u001b[0m     \u001b[0;32mif\u001b[0m \u001b[0mchunksize\u001b[0m \u001b[0;32mor\u001b[0m \u001b[0miterator\u001b[0m\u001b[0;34m:\u001b[0m\u001b[0;34m\u001b[0m\u001b[0;34m\u001b[0m\u001b[0m\n",
            "\u001b[0;32m/usr/local/lib/python3.11/dist-packages/pandas/io/parsers/readers.py\u001b[0m in \u001b[0;36m__init__\u001b[0;34m(self, f, engine, **kwds)\u001b[0m\n\u001b[1;32m   1618\u001b[0m \u001b[0;34m\u001b[0m\u001b[0m\n\u001b[1;32m   1619\u001b[0m         \u001b[0mself\u001b[0m\u001b[0;34m.\u001b[0m\u001b[0mhandles\u001b[0m\u001b[0;34m:\u001b[0m \u001b[0mIOHandles\u001b[0m \u001b[0;34m|\u001b[0m \u001b[0;32mNone\u001b[0m \u001b[0;34m=\u001b[0m \u001b[0;32mNone\u001b[0m\u001b[0;34m\u001b[0m\u001b[0;34m\u001b[0m\u001b[0m\n\u001b[0;32m-> 1620\u001b[0;31m         \u001b[0mself\u001b[0m\u001b[0;34m.\u001b[0m\u001b[0m_engine\u001b[0m \u001b[0;34m=\u001b[0m \u001b[0mself\u001b[0m\u001b[0;34m.\u001b[0m\u001b[0m_make_engine\u001b[0m\u001b[0;34m(\u001b[0m\u001b[0mf\u001b[0m\u001b[0;34m,\u001b[0m \u001b[0mself\u001b[0m\u001b[0;34m.\u001b[0m\u001b[0mengine\u001b[0m\u001b[0;34m)\u001b[0m\u001b[0;34m\u001b[0m\u001b[0;34m\u001b[0m\u001b[0m\n\u001b[0m\u001b[1;32m   1621\u001b[0m \u001b[0;34m\u001b[0m\u001b[0m\n\u001b[1;32m   1622\u001b[0m     \u001b[0;32mdef\u001b[0m \u001b[0mclose\u001b[0m\u001b[0;34m(\u001b[0m\u001b[0mself\u001b[0m\u001b[0;34m)\u001b[0m \u001b[0;34m->\u001b[0m \u001b[0;32mNone\u001b[0m\u001b[0;34m:\u001b[0m\u001b[0;34m\u001b[0m\u001b[0;34m\u001b[0m\u001b[0m\n",
            "\u001b[0;32m/usr/local/lib/python3.11/dist-packages/pandas/io/parsers/readers.py\u001b[0m in \u001b[0;36m_make_engine\u001b[0;34m(self, f, engine)\u001b[0m\n\u001b[1;32m   1878\u001b[0m                 \u001b[0;32mif\u001b[0m \u001b[0;34m\"b\"\u001b[0m \u001b[0;32mnot\u001b[0m \u001b[0;32min\u001b[0m \u001b[0mmode\u001b[0m\u001b[0;34m:\u001b[0m\u001b[0;34m\u001b[0m\u001b[0;34m\u001b[0m\u001b[0m\n\u001b[1;32m   1879\u001b[0m                     \u001b[0mmode\u001b[0m \u001b[0;34m+=\u001b[0m \u001b[0;34m\"b\"\u001b[0m\u001b[0;34m\u001b[0m\u001b[0;34m\u001b[0m\u001b[0m\n\u001b[0;32m-> 1880\u001b[0;31m             self.handles = get_handle(\n\u001b[0m\u001b[1;32m   1881\u001b[0m                 \u001b[0mf\u001b[0m\u001b[0;34m,\u001b[0m\u001b[0;34m\u001b[0m\u001b[0;34m\u001b[0m\u001b[0m\n\u001b[1;32m   1882\u001b[0m                 \u001b[0mmode\u001b[0m\u001b[0;34m,\u001b[0m\u001b[0;34m\u001b[0m\u001b[0;34m\u001b[0m\u001b[0m\n",
            "\u001b[0;32m/usr/local/lib/python3.11/dist-packages/pandas/io/common.py\u001b[0m in \u001b[0;36mget_handle\u001b[0;34m(path_or_buf, mode, encoding, compression, memory_map, is_text, errors, storage_options)\u001b[0m\n\u001b[1;32m    871\u001b[0m         \u001b[0;32mif\u001b[0m \u001b[0mioargs\u001b[0m\u001b[0;34m.\u001b[0m\u001b[0mencoding\u001b[0m \u001b[0;32mand\u001b[0m \u001b[0;34m\"b\"\u001b[0m \u001b[0;32mnot\u001b[0m \u001b[0;32min\u001b[0m \u001b[0mioargs\u001b[0m\u001b[0;34m.\u001b[0m\u001b[0mmode\u001b[0m\u001b[0;34m:\u001b[0m\u001b[0;34m\u001b[0m\u001b[0;34m\u001b[0m\u001b[0m\n\u001b[1;32m    872\u001b[0m             \u001b[0;31m# Encoding\u001b[0m\u001b[0;34m\u001b[0m\u001b[0;34m\u001b[0m\u001b[0m\n\u001b[0;32m--> 873\u001b[0;31m             handle = open(\n\u001b[0m\u001b[1;32m    874\u001b[0m                 \u001b[0mhandle\u001b[0m\u001b[0;34m,\u001b[0m\u001b[0;34m\u001b[0m\u001b[0;34m\u001b[0m\u001b[0m\n\u001b[1;32m    875\u001b[0m                 \u001b[0mioargs\u001b[0m\u001b[0;34m.\u001b[0m\u001b[0mmode\u001b[0m\u001b[0;34m,\u001b[0m\u001b[0;34m\u001b[0m\u001b[0;34m\u001b[0m\u001b[0m\n",
            "\u001b[0;31mFileNotFoundError\u001b[0m: [Errno 2] No such file or directory: 'database_dropout.csv'"
          ]
        }
      ]
    },
    {
      "cell_type": "markdown",
      "source": [
        "# EDA"
      ],
      "metadata": {
        "id": "zeI4TEnCHylC"
      }
    },
    {
      "cell_type": "code",
      "source": [
        "# Copiar DF para DF EDA\n",
        "df_censo_eda = df_censo.copy()"
      ],
      "metadata": {
        "id": "dbyozMp5HpgW"
      },
      "execution_count": null,
      "outputs": []
    },
    {
      "cell_type": "code",
      "source": [
        "# Converter para booleano\n",
        "df_censo_eda['IN_INTERNET'] = df_censo_eda['IN_INTERNET'].astype(bool)\n",
        "df_censo_eda['IN_SALA_PROFESSOR'] = df_censo_eda['IN_SALA_PROFESSOR'].astype(bool)\n",
        "df_censo_eda['IN_AGUA_INEXISTENTE'] = df_censo_eda['IN_AGUA_INEXISTENTE'].astype(bool)\n",
        "df_censo_eda['IN_ENERGIA_INEXISTENTE'] = df_censo_eda['IN_ENERGIA_INEXISTENTE'].astype(bool)\n",
        "df_censo_eda['IN_ESGOTO_INEXISTENTE'] = df_censo_eda['IN_ESGOTO_INEXISTENTE'].astype(bool)\n",
        "df_censo_eda['IN_TRATAMENTO_LIXO_INEXISTENTE'] = df_censo_eda['IN_TRATAMENTO_LIXO_INEXISTENTE'].astype(bool)\n",
        "df_censo_eda['IN_AUDITORIO'] = df_censo_eda['IN_AUDITORIO'].astype(bool)\n",
        "df_censo_eda['IN_BANHEIRO'] = df_censo_eda['IN_BANHEIRO'].astype(bool)\n",
        "df_censo_eda['IN_BIBLIOTECA'] = df_censo_eda['IN_BIBLIOTECA'].astype(bool)\n",
        "df_censo_eda['IN_LABORATORIO_INFORMATICA'] = df_censo_eda['IN_LABORATORIO_INFORMATICA'].astype(bool)\n",
        "df_censo_eda['IN_PARQUE_INFANTIL'] = df_censo_eda['IN_PARQUE_INFANTIL'].astype(bool)\n",
        "df_censo_eda['IN_PISCINA'] = df_censo_eda['IN_PISCINA'].astype(bool)\n",
        "df_censo_eda['IN_REFEITORIO'] = df_censo_eda['IN_REFEITORIO'].astype(bool)\n",
        "df_censo_eda['IN_SALA_LEITURA'] = df_censo_eda['IN_SALA_LEITURA'].astype(bool)\n",
        "df_censo_eda['IN_SALA_PROFESSOR'] = df_censo_eda['IN_SALA_PROFESSOR'].astype(bool)\n",
        "df_censo_eda['IN_ACESSIBILIDADE_INEXISTENTE'] = df_censo_eda['IN_ACESSIBILIDADE_INEXISTENTE'].astype(bool)\n",
        "df_censo_eda['IN_QUADRA_ESPORTES'] = df_censo_eda['IN_QUADRA_ESPORTES'].astype(bool)\n",
        "\n",
        "# converte  inteiros\n",
        "df_censo_eda['QT_SALAS_UTILIZADAS'] = df_censo_eda['QT_SALAS_UTILIZADAS'].astype(int)\n",
        "df_censo_eda['QT_SALAS_UTILIZA_CLIMATIZADAS'] = df_censo_eda['QT_SALAS_UTILIZA_CLIMATIZADAS'].astype(int)\n",
        "df_censo_eda['QT_SALAS_UTILIZADAS_ACESSIVEIS'] = df_censo_eda['QT_SALAS_UTILIZADAS_ACESSIVEIS'].astype(int)\n",
        "df_censo_eda['TP_REDE_LOCAL'] = df_censo_eda['TP_REDE_LOCAL'].astype(int)\n",
        "df_censo_eda['QT_PROF_ADMINISTRATIVOS'] = df_censo_eda['QT_PROF_ADMINISTRATIVOS'].astype(int)\n",
        "df_censo_eda['QT_PROF_SERVICOS_GERAIS'] = df_censo_eda['QT_PROF_SERVICOS_GERAIS'].astype(int)\n",
        "df_censo_eda['QT_PROF_BIBLIOTECARIO'] = df_censo_eda['QT_PROF_BIBLIOTECARIO'].astype(int)\n",
        "df_censo_eda['QT_PROF_SAUDE'] = df_censo_eda['QT_PROF_SAUDE'].astype(int)\n",
        "df_censo_eda['QT_PROF_SEGURANCA'] = df_censo_eda['QT_PROF_SEGURANCA'].astype(int)\n",
        "df_censo_eda['QT_PROF_GESTAO'] = df_censo_eda['QT_PROF_GESTAO'].astype(int)\n",
        "df_censo_eda['QT_SALAS_UTILIZADAS'] = df_censo_eda['QT_SALAS_UTILIZADAS'].astype(int)\n",
        "df_censo_eda['QT_SALAS_UTILIZA_CLIMATIZADAS'] = df_censo_eda['QT_SALAS_UTILIZA_CLIMATIZADAS'].astype(int)\n",
        "df_censo_eda['QT_SALAS_UTILIZADAS_ACESSIVEIS'] = df_censo_eda['QT_SALAS_UTILIZADAS_ACESSIVEIS'].astype(int)\n",
        "df_censo_eda['QT_PROF_ALIMENTACAO'] = df_censo_eda['QT_PROF_ALIMENTACAO'].astype(int)\n",
        "\n",
        "# convertendo dados categoricos\n",
        "encoder = OrdinalEncoder(categories=[['Baixa','Moderada','Alta']])\n",
        "df_censo_eda['TX_EV_TOT'] = encoder.fit_transform(df_censo_eda[['TX_EV_TOT']])\n",
        "df_censo_eda['TX_EV_TOT'] = df_censo_eda['TX_EV_TOT'].astype(int)"
      ],
      "metadata": {
        "id": "tLyzAExFauEI"
      },
      "execution_count": null,
      "outputs": []
    },
    {
      "cell_type": "code",
      "source": [
        "df_censo_eda = df_censo_eda.drop(columns=['NO_REGIAO', 'SG_UF','CO_MUNICIPIO', 'NO_MUNICIPIO', 'CO_ENTIDADE','NO_ENTIDADE', 'NO_CATEGORIA','NO_DEPENDENCIA'])\n"
      ],
      "metadata": {
        "id": "FrvJxii_JqZT"
      },
      "execution_count": null,
      "outputs": []
    },
    {
      "cell_type": "code",
      "source": [
        "# Medidas estatisticas do Df\n",
        "df_censo_eda.describe()"
      ],
      "metadata": {
        "colab": {
          "base_uri": "https://localhost:8080/",
          "height": 350
        },
        "id": "zXCOsqGDIfdC",
        "outputId": "0f28bafa-dd5b-4c43-c3b4-ba071e9dde29"
      },
      "execution_count": null,
      "outputs": [
        {
          "output_type": "execute_result",
          "data": {
            "text/plain": [
              "       CO_MUNICIPIO   CO_ENTIDADE  TX_APROV_FUND   TX_APROV_MED  \\\n",
              "count  1.301290e+05  1.301290e+05  130129.000000  130129.000000   \n",
              "mean   2.941949e+06  2.943467e+07      96.413265      91.525948   \n",
              "std    9.917380e+05  9.877035e+06       7.268577       8.574392   \n",
              "min    1.100015e+06  1.100006e+07       0.000000       0.000000   \n",
              "25%    2.211001e+06  2.213755e+07      96.100000      87.900000   \n",
              "50%    2.922250e+06  2.930426e+07      99.400000      94.100000   \n",
              "75%    3.525904e+06  3.511526e+07     100.000000      97.900000   \n",
              "max    5.300108e+06  5.308601e+07     100.000000     100.000000   \n",
              "\n",
              "        TX_REPR_FUND    TX_REPR_MED    TX_DIS_FUND     TX_DIS_MED  \\\n",
              "count  130129.000000  130129.000000  130129.000000  130129.000000   \n",
              "mean        2.233555       3.470273      14.206139      26.584138   \n",
              "std         5.562855       4.793156      14.482872      16.363533   \n",
              "min         0.000000       0.000000       0.000000       0.000000   \n",
              "25%         0.000000       0.200000       3.500000      14.000000   \n",
              "50%         0.000000       1.800000      10.000000      24.400000   \n",
              "75%         1.800000       4.700000      20.400000      37.200000   \n",
              "max       100.000000     100.000000     100.000000     100.000000   \n",
              "\n",
              "          M_ATU_FUND      M_ATU_MED  ...  QT_PROF_SERVICOS_GERAIS  \\\n",
              "count  130129.000000  130129.000000  ...            130129.000000   \n",
              "mean       18.203997       6.081757  ...                88.867639   \n",
              "std         9.038688      12.243515  ...              2753.515617   \n",
              "min         0.000000       0.000000  ...                 0.000000   \n",
              "25%        12.000000       0.000000  ...                 1.000000   \n",
              "50%        18.800000       0.000000  ...                 2.000000   \n",
              "75%        24.800000       0.000000  ...                 5.000000   \n",
              "max       162.000000     205.700000  ...             88888.000000   \n",
              "\n",
              "       QT_PROF_BIBLIOTECARIO  QT_PROF_SAUDE  QT_PROF_ALIMENTACAO  \\\n",
              "count          130129.000000  130129.000000        130129.000000   \n",
              "mean               24.294300     151.733157            28.028426   \n",
              "std              1457.577143    3668.284821          1538.574344   \n",
              "min                 0.000000       0.000000             0.000000   \n",
              "25%                 0.000000       0.000000             0.000000   \n",
              "50%                 0.000000       0.000000             1.000000   \n",
              "75%                 0.000000       0.000000             2.000000   \n",
              "max             88888.000000   88888.000000         88888.000000   \n",
              "\n",
              "       QT_PROF_SEGURANCA  QT_PROF_GESTAO    QT_TUR_FUND     QT_TUR_MED  \\\n",
              "count      130129.000000   130129.000000  130129.000000  130129.000000   \n",
              "mean           96.060632       12.949327       8.911419       1.980619   \n",
              "std          2913.975963     1045.348142       8.056948       5.264287   \n",
              "min             0.000000        0.000000       0.000000       0.000000   \n",
              "25%             0.000000        0.000000       3.000000       0.000000   \n",
              "50%             0.000000        0.000000       7.000000       0.000000   \n",
              "75%             0.000000        1.000000      12.000000       0.000000   \n",
              "max         88888.000000    88888.000000     167.000000     164.000000   \n",
              "\n",
              "            PIB_MUN     PIB_PC_MUN  \n",
              "count  1.301290e+05  130129.000000  \n",
              "mean   3.799957e+07   33965.719080  \n",
              "std    1.365195e+08   39285.631321  \n",
              "min    1.805110e+04    5407.700000  \n",
              "25%    3.018507e+05   12906.300000  \n",
              "50%    1.181478e+06   23907.900000  \n",
              "75%    1.006380e+07   44705.300000  \n",
              "max    8.289806e+08  920834.000000  \n",
              "\n",
              "[8 rows x 45 columns]"
            ],
            "text/html": [
              "\n",
              "  <div id=\"df-ceb39aaa-7577-4370-9736-1dc94b14dadd\" class=\"colab-df-container\">\n",
              "    <div>\n",
              "<style scoped>\n",
              "    .dataframe tbody tr th:only-of-type {\n",
              "        vertical-align: middle;\n",
              "    }\n",
              "\n",
              "    .dataframe tbody tr th {\n",
              "        vertical-align: top;\n",
              "    }\n",
              "\n",
              "    .dataframe thead th {\n",
              "        text-align: right;\n",
              "    }\n",
              "</style>\n",
              "<table border=\"1\" class=\"dataframe\">\n",
              "  <thead>\n",
              "    <tr style=\"text-align: right;\">\n",
              "      <th></th>\n",
              "      <th>CO_MUNICIPIO</th>\n",
              "      <th>CO_ENTIDADE</th>\n",
              "      <th>TX_APROV_FUND</th>\n",
              "      <th>TX_APROV_MED</th>\n",
              "      <th>TX_REPR_FUND</th>\n",
              "      <th>TX_REPR_MED</th>\n",
              "      <th>TX_DIS_FUND</th>\n",
              "      <th>TX_DIS_MED</th>\n",
              "      <th>M_ATU_FUND</th>\n",
              "      <th>M_ATU_MED</th>\n",
              "      <th>...</th>\n",
              "      <th>QT_PROF_SERVICOS_GERAIS</th>\n",
              "      <th>QT_PROF_BIBLIOTECARIO</th>\n",
              "      <th>QT_PROF_SAUDE</th>\n",
              "      <th>QT_PROF_ALIMENTACAO</th>\n",
              "      <th>QT_PROF_SEGURANCA</th>\n",
              "      <th>QT_PROF_GESTAO</th>\n",
              "      <th>QT_TUR_FUND</th>\n",
              "      <th>QT_TUR_MED</th>\n",
              "      <th>PIB_MUN</th>\n",
              "      <th>PIB_PC_MUN</th>\n",
              "    </tr>\n",
              "  </thead>\n",
              "  <tbody>\n",
              "    <tr>\n",
              "      <th>count</th>\n",
              "      <td>1.301290e+05</td>\n",
              "      <td>1.301290e+05</td>\n",
              "      <td>130129.000000</td>\n",
              "      <td>130129.000000</td>\n",
              "      <td>130129.000000</td>\n",
              "      <td>130129.000000</td>\n",
              "      <td>130129.000000</td>\n",
              "      <td>130129.000000</td>\n",
              "      <td>130129.000000</td>\n",
              "      <td>130129.000000</td>\n",
              "      <td>...</td>\n",
              "      <td>130129.000000</td>\n",
              "      <td>130129.000000</td>\n",
              "      <td>130129.000000</td>\n",
              "      <td>130129.000000</td>\n",
              "      <td>130129.000000</td>\n",
              "      <td>130129.000000</td>\n",
              "      <td>130129.000000</td>\n",
              "      <td>130129.000000</td>\n",
              "      <td>1.301290e+05</td>\n",
              "      <td>130129.000000</td>\n",
              "    </tr>\n",
              "    <tr>\n",
              "      <th>mean</th>\n",
              "      <td>2.941949e+06</td>\n",
              "      <td>2.943467e+07</td>\n",
              "      <td>96.413265</td>\n",
              "      <td>91.525948</td>\n",
              "      <td>2.233555</td>\n",
              "      <td>3.470273</td>\n",
              "      <td>14.206139</td>\n",
              "      <td>26.584138</td>\n",
              "      <td>18.203997</td>\n",
              "      <td>6.081757</td>\n",
              "      <td>...</td>\n",
              "      <td>88.867639</td>\n",
              "      <td>24.294300</td>\n",
              "      <td>151.733157</td>\n",
              "      <td>28.028426</td>\n",
              "      <td>96.060632</td>\n",
              "      <td>12.949327</td>\n",
              "      <td>8.911419</td>\n",
              "      <td>1.980619</td>\n",
              "      <td>3.799957e+07</td>\n",
              "      <td>33965.719080</td>\n",
              "    </tr>\n",
              "    <tr>\n",
              "      <th>std</th>\n",
              "      <td>9.917380e+05</td>\n",
              "      <td>9.877035e+06</td>\n",
              "      <td>7.268577</td>\n",
              "      <td>8.574392</td>\n",
              "      <td>5.562855</td>\n",
              "      <td>4.793156</td>\n",
              "      <td>14.482872</td>\n",
              "      <td>16.363533</td>\n",
              "      <td>9.038688</td>\n",
              "      <td>12.243515</td>\n",
              "      <td>...</td>\n",
              "      <td>2753.515617</td>\n",
              "      <td>1457.577143</td>\n",
              "      <td>3668.284821</td>\n",
              "      <td>1538.574344</td>\n",
              "      <td>2913.975963</td>\n",
              "      <td>1045.348142</td>\n",
              "      <td>8.056948</td>\n",
              "      <td>5.264287</td>\n",
              "      <td>1.365195e+08</td>\n",
              "      <td>39285.631321</td>\n",
              "    </tr>\n",
              "    <tr>\n",
              "      <th>min</th>\n",
              "      <td>1.100015e+06</td>\n",
              "      <td>1.100006e+07</td>\n",
              "      <td>0.000000</td>\n",
              "      <td>0.000000</td>\n",
              "      <td>0.000000</td>\n",
              "      <td>0.000000</td>\n",
              "      <td>0.000000</td>\n",
              "      <td>0.000000</td>\n",
              "      <td>0.000000</td>\n",
              "      <td>0.000000</td>\n",
              "      <td>...</td>\n",
              "      <td>0.000000</td>\n",
              "      <td>0.000000</td>\n",
              "      <td>0.000000</td>\n",
              "      <td>0.000000</td>\n",
              "      <td>0.000000</td>\n",
              "      <td>0.000000</td>\n",
              "      <td>0.000000</td>\n",
              "      <td>0.000000</td>\n",
              "      <td>1.805110e+04</td>\n",
              "      <td>5407.700000</td>\n",
              "    </tr>\n",
              "    <tr>\n",
              "      <th>25%</th>\n",
              "      <td>2.211001e+06</td>\n",
              "      <td>2.213755e+07</td>\n",
              "      <td>96.100000</td>\n",
              "      <td>87.900000</td>\n",
              "      <td>0.000000</td>\n",
              "      <td>0.200000</td>\n",
              "      <td>3.500000</td>\n",
              "      <td>14.000000</td>\n",
              "      <td>12.000000</td>\n",
              "      <td>0.000000</td>\n",
              "      <td>...</td>\n",
              "      <td>1.000000</td>\n",
              "      <td>0.000000</td>\n",
              "      <td>0.000000</td>\n",
              "      <td>0.000000</td>\n",
              "      <td>0.000000</td>\n",
              "      <td>0.000000</td>\n",
              "      <td>3.000000</td>\n",
              "      <td>0.000000</td>\n",
              "      <td>3.018507e+05</td>\n",
              "      <td>12906.300000</td>\n",
              "    </tr>\n",
              "    <tr>\n",
              "      <th>50%</th>\n",
              "      <td>2.922250e+06</td>\n",
              "      <td>2.930426e+07</td>\n",
              "      <td>99.400000</td>\n",
              "      <td>94.100000</td>\n",
              "      <td>0.000000</td>\n",
              "      <td>1.800000</td>\n",
              "      <td>10.000000</td>\n",
              "      <td>24.400000</td>\n",
              "      <td>18.800000</td>\n",
              "      <td>0.000000</td>\n",
              "      <td>...</td>\n",
              "      <td>2.000000</td>\n",
              "      <td>0.000000</td>\n",
              "      <td>0.000000</td>\n",
              "      <td>1.000000</td>\n",
              "      <td>0.000000</td>\n",
              "      <td>0.000000</td>\n",
              "      <td>7.000000</td>\n",
              "      <td>0.000000</td>\n",
              "      <td>1.181478e+06</td>\n",
              "      <td>23907.900000</td>\n",
              "    </tr>\n",
              "    <tr>\n",
              "      <th>75%</th>\n",
              "      <td>3.525904e+06</td>\n",
              "      <td>3.511526e+07</td>\n",
              "      <td>100.000000</td>\n",
              "      <td>97.900000</td>\n",
              "      <td>1.800000</td>\n",
              "      <td>4.700000</td>\n",
              "      <td>20.400000</td>\n",
              "      <td>37.200000</td>\n",
              "      <td>24.800000</td>\n",
              "      <td>0.000000</td>\n",
              "      <td>...</td>\n",
              "      <td>5.000000</td>\n",
              "      <td>0.000000</td>\n",
              "      <td>0.000000</td>\n",
              "      <td>2.000000</td>\n",
              "      <td>0.000000</td>\n",
              "      <td>1.000000</td>\n",
              "      <td>12.000000</td>\n",
              "      <td>0.000000</td>\n",
              "      <td>1.006380e+07</td>\n",
              "      <td>44705.300000</td>\n",
              "    </tr>\n",
              "    <tr>\n",
              "      <th>max</th>\n",
              "      <td>5.300108e+06</td>\n",
              "      <td>5.308601e+07</td>\n",
              "      <td>100.000000</td>\n",
              "      <td>100.000000</td>\n",
              "      <td>100.000000</td>\n",
              "      <td>100.000000</td>\n",
              "      <td>100.000000</td>\n",
              "      <td>100.000000</td>\n",
              "      <td>162.000000</td>\n",
              "      <td>205.700000</td>\n",
              "      <td>...</td>\n",
              "      <td>88888.000000</td>\n",
              "      <td>88888.000000</td>\n",
              "      <td>88888.000000</td>\n",
              "      <td>88888.000000</td>\n",
              "      <td>88888.000000</td>\n",
              "      <td>88888.000000</td>\n",
              "      <td>167.000000</td>\n",
              "      <td>164.000000</td>\n",
              "      <td>8.289806e+08</td>\n",
              "      <td>920834.000000</td>\n",
              "    </tr>\n",
              "  </tbody>\n",
              "</table>\n",
              "<p>8 rows × 45 columns</p>\n",
              "</div>\n",
              "    <div class=\"colab-df-buttons\">\n",
              "\n",
              "  <div class=\"colab-df-container\">\n",
              "    <button class=\"colab-df-convert\" onclick=\"convertToInteractive('df-ceb39aaa-7577-4370-9736-1dc94b14dadd')\"\n",
              "            title=\"Convert this dataframe to an interactive table.\"\n",
              "            style=\"display:none;\">\n",
              "\n",
              "  <svg xmlns=\"http://www.w3.org/2000/svg\" height=\"24px\" viewBox=\"0 -960 960 960\">\n",
              "    <path d=\"M120-120v-720h720v720H120Zm60-500h600v-160H180v160Zm220 220h160v-160H400v160Zm0 220h160v-160H400v160ZM180-400h160v-160H180v160Zm440 0h160v-160H620v160ZM180-180h160v-160H180v160Zm440 0h160v-160H620v160Z\"/>\n",
              "  </svg>\n",
              "    </button>\n",
              "\n",
              "  <style>\n",
              "    .colab-df-container {\n",
              "      display:flex;\n",
              "      gap: 12px;\n",
              "    }\n",
              "\n",
              "    .colab-df-convert {\n",
              "      background-color: #E8F0FE;\n",
              "      border: none;\n",
              "      border-radius: 50%;\n",
              "      cursor: pointer;\n",
              "      display: none;\n",
              "      fill: #1967D2;\n",
              "      height: 32px;\n",
              "      padding: 0 0 0 0;\n",
              "      width: 32px;\n",
              "    }\n",
              "\n",
              "    .colab-df-convert:hover {\n",
              "      background-color: #E2EBFA;\n",
              "      box-shadow: 0px 1px 2px rgba(60, 64, 67, 0.3), 0px 1px 3px 1px rgba(60, 64, 67, 0.15);\n",
              "      fill: #174EA6;\n",
              "    }\n",
              "\n",
              "    .colab-df-buttons div {\n",
              "      margin-bottom: 4px;\n",
              "    }\n",
              "\n",
              "    [theme=dark] .colab-df-convert {\n",
              "      background-color: #3B4455;\n",
              "      fill: #D2E3FC;\n",
              "    }\n",
              "\n",
              "    [theme=dark] .colab-df-convert:hover {\n",
              "      background-color: #434B5C;\n",
              "      box-shadow: 0px 1px 3px 1px rgba(0, 0, 0, 0.15);\n",
              "      filter: drop-shadow(0px 1px 2px rgba(0, 0, 0, 0.3));\n",
              "      fill: #FFFFFF;\n",
              "    }\n",
              "  </style>\n",
              "\n",
              "    <script>\n",
              "      const buttonEl =\n",
              "        document.querySelector('#df-ceb39aaa-7577-4370-9736-1dc94b14dadd button.colab-df-convert');\n",
              "      buttonEl.style.display =\n",
              "        google.colab.kernel.accessAllowed ? 'block' : 'none';\n",
              "\n",
              "      async function convertToInteractive(key) {\n",
              "        const element = document.querySelector('#df-ceb39aaa-7577-4370-9736-1dc94b14dadd');\n",
              "        const dataTable =\n",
              "          await google.colab.kernel.invokeFunction('convertToInteractive',\n",
              "                                                    [key], {});\n",
              "        if (!dataTable) return;\n",
              "\n",
              "        const docLinkHtml = 'Like what you see? Visit the ' +\n",
              "          '<a target=\"_blank\" href=https://colab.research.google.com/notebooks/data_table.ipynb>data table notebook</a>'\n",
              "          + ' to learn more about interactive tables.';\n",
              "        element.innerHTML = '';\n",
              "        dataTable['output_type'] = 'display_data';\n",
              "        await google.colab.output.renderOutput(dataTable, element);\n",
              "        const docLink = document.createElement('div');\n",
              "        docLink.innerHTML = docLinkHtml;\n",
              "        element.appendChild(docLink);\n",
              "      }\n",
              "    </script>\n",
              "  </div>\n",
              "\n",
              "\n",
              "<div id=\"df-ee445560-0e75-4b0f-a2fb-f01d366f2f29\">\n",
              "  <button class=\"colab-df-quickchart\" onclick=\"quickchart('df-ee445560-0e75-4b0f-a2fb-f01d366f2f29')\"\n",
              "            title=\"Suggest charts\"\n",
              "            style=\"display:none;\">\n",
              "\n",
              "<svg xmlns=\"http://www.w3.org/2000/svg\" height=\"24px\"viewBox=\"0 0 24 24\"\n",
              "     width=\"24px\">\n",
              "    <g>\n",
              "        <path d=\"M19 3H5c-1.1 0-2 .9-2 2v14c0 1.1.9 2 2 2h14c1.1 0 2-.9 2-2V5c0-1.1-.9-2-2-2zM9 17H7v-7h2v7zm4 0h-2V7h2v10zm4 0h-2v-4h2v4z\"/>\n",
              "    </g>\n",
              "</svg>\n",
              "  </button>\n",
              "\n",
              "<style>\n",
              "  .colab-df-quickchart {\n",
              "      --bg-color: #E8F0FE;\n",
              "      --fill-color: #1967D2;\n",
              "      --hover-bg-color: #E2EBFA;\n",
              "      --hover-fill-color: #174EA6;\n",
              "      --disabled-fill-color: #AAA;\n",
              "      --disabled-bg-color: #DDD;\n",
              "  }\n",
              "\n",
              "  [theme=dark] .colab-df-quickchart {\n",
              "      --bg-color: #3B4455;\n",
              "      --fill-color: #D2E3FC;\n",
              "      --hover-bg-color: #434B5C;\n",
              "      --hover-fill-color: #FFFFFF;\n",
              "      --disabled-bg-color: #3B4455;\n",
              "      --disabled-fill-color: #666;\n",
              "  }\n",
              "\n",
              "  .colab-df-quickchart {\n",
              "    background-color: var(--bg-color);\n",
              "    border: none;\n",
              "    border-radius: 50%;\n",
              "    cursor: pointer;\n",
              "    display: none;\n",
              "    fill: var(--fill-color);\n",
              "    height: 32px;\n",
              "    padding: 0;\n",
              "    width: 32px;\n",
              "  }\n",
              "\n",
              "  .colab-df-quickchart:hover {\n",
              "    background-color: var(--hover-bg-color);\n",
              "    box-shadow: 0 1px 2px rgba(60, 64, 67, 0.3), 0 1px 3px 1px rgba(60, 64, 67, 0.15);\n",
              "    fill: var(--button-hover-fill-color);\n",
              "  }\n",
              "\n",
              "  .colab-df-quickchart-complete:disabled,\n",
              "  .colab-df-quickchart-complete:disabled:hover {\n",
              "    background-color: var(--disabled-bg-color);\n",
              "    fill: var(--disabled-fill-color);\n",
              "    box-shadow: none;\n",
              "  }\n",
              "\n",
              "  .colab-df-spinner {\n",
              "    border: 2px solid var(--fill-color);\n",
              "    border-color: transparent;\n",
              "    border-bottom-color: var(--fill-color);\n",
              "    animation:\n",
              "      spin 1s steps(1) infinite;\n",
              "  }\n",
              "\n",
              "  @keyframes spin {\n",
              "    0% {\n",
              "      border-color: transparent;\n",
              "      border-bottom-color: var(--fill-color);\n",
              "      border-left-color: var(--fill-color);\n",
              "    }\n",
              "    20% {\n",
              "      border-color: transparent;\n",
              "      border-left-color: var(--fill-color);\n",
              "      border-top-color: var(--fill-color);\n",
              "    }\n",
              "    30% {\n",
              "      border-color: transparent;\n",
              "      border-left-color: var(--fill-color);\n",
              "      border-top-color: var(--fill-color);\n",
              "      border-right-color: var(--fill-color);\n",
              "    }\n",
              "    40% {\n",
              "      border-color: transparent;\n",
              "      border-right-color: var(--fill-color);\n",
              "      border-top-color: var(--fill-color);\n",
              "    }\n",
              "    60% {\n",
              "      border-color: transparent;\n",
              "      border-right-color: var(--fill-color);\n",
              "    }\n",
              "    80% {\n",
              "      border-color: transparent;\n",
              "      border-right-color: var(--fill-color);\n",
              "      border-bottom-color: var(--fill-color);\n",
              "    }\n",
              "    90% {\n",
              "      border-color: transparent;\n",
              "      border-bottom-color: var(--fill-color);\n",
              "    }\n",
              "  }\n",
              "</style>\n",
              "\n",
              "  <script>\n",
              "    async function quickchart(key) {\n",
              "      const quickchartButtonEl =\n",
              "        document.querySelector('#' + key + ' button');\n",
              "      quickchartButtonEl.disabled = true;  // To prevent multiple clicks.\n",
              "      quickchartButtonEl.classList.add('colab-df-spinner');\n",
              "      try {\n",
              "        const charts = await google.colab.kernel.invokeFunction(\n",
              "            'suggestCharts', [key], {});\n",
              "      } catch (error) {\n",
              "        console.error('Error during call to suggestCharts:', error);\n",
              "      }\n",
              "      quickchartButtonEl.classList.remove('colab-df-spinner');\n",
              "      quickchartButtonEl.classList.add('colab-df-quickchart-complete');\n",
              "    }\n",
              "    (() => {\n",
              "      let quickchartButtonEl =\n",
              "        document.querySelector('#df-ee445560-0e75-4b0f-a2fb-f01d366f2f29 button');\n",
              "      quickchartButtonEl.style.display =\n",
              "        google.colab.kernel.accessAllowed ? 'block' : 'none';\n",
              "    })();\n",
              "  </script>\n",
              "</div>\n",
              "\n",
              "    </div>\n",
              "  </div>\n"
            ],
            "application/vnd.google.colaboratory.intrinsic+json": {
              "type": "dataframe"
            }
          },
          "metadata": {},
          "execution_count": 6
        }
      ]
    },
    {
      "cell_type": "markdown",
      "source": [
        "## Visualização de dados"
      ],
      "metadata": {
        "id": "pPieZT8jMAGb"
      }
    },
    {
      "cell_type": "code",
      "source": [
        "df_censo_eda.boxplot(figsize=(20,20), rot=90)"
      ],
      "metadata": {
        "id": "c8iysAE0MDt0"
      },
      "execution_count": null,
      "outputs": []
    },
    {
      "cell_type": "markdown",
      "source": [
        "## Detectar valores ausentes"
      ],
      "metadata": {
        "id": "kYjKmSsxMiGz"
      }
    },
    {
      "cell_type": "code",
      "source": [
        "# Detectar valores ausentes\n",
        "df_censo_eda.isna().sum()"
      ],
      "metadata": {
        "id": "Jax-wxhTMHfC"
      },
      "execution_count": null,
      "outputs": []
    },
    {
      "cell_type": "markdown",
      "source": [
        "## Tratamento de outliers"
      ],
      "metadata": {
        "id": "YgwzAIr-LYob"
      }
    },
    {
      "cell_type": "markdown",
      "source": [
        "## Taxas"
      ],
      "metadata": {
        "id": "Xy6NmH__fI4Q"
      }
    },
    {
      "cell_type": "code",
      "source": [
        "from scipy.stats import zscore\n",
        "import numpy as np\n",
        "\n",
        "def substituir_outliers_zscore(df, nome_coluna):\n",
        "    # Calcular o Z-Score da coluna\n",
        "    z_scores = zscore(df[nome_coluna])\n",
        "\n",
        "    # Definir a mediana da coluna\n",
        "    mediana = df[nome_coluna].median()\n",
        "\n",
        "    # Identificar os outliers: Z-Score > 3 ou Z-Score < -3\n",
        "    outliers = np.abs(z_scores) > 3\n",
        "\n",
        "    # Substituir os outliers pela mediana\n",
        "    df[nome_coluna] = df.apply(\n",
        "        lambda row: mediana if np.abs(z_scores[row.name]) > 3 else row[nome_coluna],\n",
        "        axis=1\n",
        "    )\n",
        "\n",
        "    # Retornar o dataframe com os outliers substituídos\n",
        "    return df"
      ],
      "metadata": {
        "id": "uvk_91CkgYUS"
      },
      "execution_count": null,
      "outputs": []
    },
    {
      "cell_type": "code",
      "source": [
        "# Definir a mediana da coluna\n",
        "df_censo_eda = substituir_outliers_zscore(df_censo_eda, 'TX_APROV_FUND')\n",
        "df_censo_eda = substituir_outliers_zscore(df_censo_eda, 'TX_APROV_MED')\n",
        "df_censo_eda = substituir_outliers_zscore(df_censo_eda, 'TX_REPR_FUND')\n",
        "df_censo_eda = substituir_outliers_zscore(df_censo_eda, 'TX_REPR_MED')\n",
        "df_censo_eda = substituir_outliers_zscore(df_censo_eda, 'TX_DIS_FUND')\n",
        "df_censo_eda = substituir_outliers_zscore(df_censo_eda, 'TX_DIS_MED')\n",
        "df_censo_eda = substituir_outliers_zscore(df_censo_eda, 'TX_DSU_FUND')\n",
        "df_censo_eda = substituir_outliers_zscore(df_censo_eda, 'TX_DSU_MED')"
      ],
      "metadata": {
        "id": "OMyIc9xwfIWY"
      },
      "execution_count": null,
      "outputs": []
    },
    {
      "cell_type": "markdown",
      "source": [
        "### Variáveis numéricas"
      ],
      "metadata": {
        "id": "T5ZFrEUBLc_r"
      }
    },
    {
      "cell_type": "code",
      "source": [
        "# Verificar / detectar otliers\n",
        "sns.boxplot(data=df_censo_eda, x='QT_PROF_SERVICOS_GERAIS')\n"
      ],
      "metadata": {
        "colab": {
          "base_uri": "https://localhost:8080/",
          "height": 466
        },
        "id": "5oRegABcJlAU",
        "outputId": "eda4e915-ee8a-41d7-b812-4b37de093098"
      },
      "execution_count": null,
      "outputs": [
        {
          "output_type": "execute_result",
          "data": {
            "text/plain": [
              "<Axes: xlabel='QT_PROF_SERVICOS_GERAIS'>"
            ]
          },
          "metadata": {},
          "execution_count": 23
        },
        {
          "output_type": "display_data",
          "data": {
            "text/plain": [
              "<Figure size 640x480 with 1 Axes>"
            ],
            "image/png": "[encoded data removed]"
          },
          "metadata": {}
        }
      ]
    },
    {
      "cell_type": "markdown",
      "source": [
        "\n",
        "## Correlação entre as variáveis"
      ],
      "metadata": {
        "id": "O91UTakHMVCL"
      }
    },
    {
      "cell_type": "code",
      "source": [
        "df_censo_fund = df_censo_eda.drop(columns=['TX_APROV_MED', 'QT_TUR_MED', 'M_HAU_MED', 'TX_DSU_MED', 'M_ATU_MED','TX_DIS_MED','TX_REPR_MED'], axis=1)\n",
        "df_censo_med = df_censo_eda"
      ],
      "metadata": {
        "id": "sHaphHe-fWHo"
      },
      "execution_count": null,
      "outputs": []
    },
    {
      "cell_type": "code",
      "source": [
        "# Mapa de calor com correlação\n",
        "plt.figure(figsize=(15, 6))\n",
        "sns.heatmap(df_censo_eda.corr(), vmin=-1, vmax=1, annot=True)"
      ],
      "metadata": {
        "id": "q7pzE68RM2Ii"
      },
      "execution_count": null,
      "outputs": []
    },
    {
      "cell_type": "code",
      "source": [
        "\n",
        "sns.boxplot(data=df_censo_eda, y='TX_DIS_FUND')"
      ],
      "metadata": {
        "colab": {
          "base_uri": "https://localhost:8080/",
          "height": 428
        },
        "id": "ZMYj6ix5eYzJ",
        "outputId": "e46ed834-6f86-47a6-bdc7-8e39c20a910d"
      },
      "execution_count": null,
      "outputs": [
        {
          "output_type": "execute_result",
          "data": {
            "text/plain": [
              "<Axes: ylabel='TX_DIS_FUND'>"
            ]
          },
          "metadata": {},
          "execution_count": 109
        },
        {
          "output_type": "display_data",
          "data": {
            "text/plain": [
              "<Figure size 640x480 with 1 Axes>"
            ],
            "image/png": "[encoded data removed]"
          },
          "metadata": {}
        }
      ]
    },
    {
      "cell_type": "code",
      "source": [
        "sns.heatmap(df_censo_fund.corr('spearman'))"
      ],
      "metadata": {
        "colab": {
          "base_uri": "https://localhost:8080/",
          "height": 679
        },
        "id": "X0cOzq0cU8eW",
        "outputId": "33e3cd7a-e50a-4ec2-d736-da67eaa3e02b"
      },
      "execution_count": null,
      "outputs": [
        {
          "output_type": "execute_result",
          "data": {
            "text/plain": [
              "<Axes: >"
            ]
          },
          "metadata": {},
          "execution_count": 120
        },
        {
          "output_type": "display_data",
          "data": {
            "text/plain": [
              "<Figure size 640x480 with 2 Axes>"
            ],
            "image/png": "[encoded data removed]"
          },
          "metadata": {}
        }
      ]
    },
    {
      "cell_type": "code",
      "source": [
        "sns.heatmap(df_censo_med.corr('pearson')[['TX_APROV_MED']].sort_values(by='TX_APROV_MED', ascending=False), vmin=-1, vmax=1, annot=True)"
      ],
      "metadata": {
        "colab": {
          "base_uri": "https://localhost:8080/",
          "height": 452
        },
        "id": "oMd1R2VohrAg",
        "outputId": "87c637e5-9ee8-4905-d44f-4fa9e2887a20"
      },
      "execution_count": null,
      "outputs": [
        {
          "output_type": "execute_result",
          "data": {
            "text/plain": [
              "<Axes: >"
            ]
          },
          "metadata": {},
          "execution_count": 115
        },
        {
          "output_type": "display_data",
          "data": {
            "text/plain": [
              "<Figure size 640x480 with 2 Axes>"
            ],
            "image/png": "[encoded data removed]"
          },
          "metadata": {}
        }
      ]
    },
    {
      "cell_type": "code",
      "source": [
        "\n",
        "\n",
        "print(df_censo_eda.dtypes)"
      ],
      "metadata": {
        "colab": {
          "base_uri": "https://localhost:8080/"
        },
        "id": "vXwgi-VLVhBd",
        "outputId": "d747eabf-8588-455e-e480-16df7e3583f7"
      },
      "execution_count": null,
      "outputs": [
        {
          "output_type": "stream",
          "name": "stdout",
          "text": [
            "TX_APROV_FUND                     float64\n",
            "TX_APROV_MED                      float64\n",
            "TX_REPR_FUND                      float64\n",
            "TX_REPR_MED                       float64\n",
            "TX_DIS_FUND                       float64\n",
            "TX_DIS_MED                        float64\n",
            "M_ATU_FUND                        float64\n",
            "M_ATU_MED                         float64\n",
            "TX_DSU_FUND                       float64\n",
            "TX_DSU_MED                        float64\n",
            "M_HAU_FUND                        float64\n",
            "M_HAU_MED                         float64\n",
            "IN_AGUA_INEXISTENTE                  bool\n",
            "IN_ENERGIA_INEXISTENTE               bool\n",
            "IN_ESGOTO_INEXISTENTE                bool\n",
            "IN_TRATAMENTO_LIXO_INEXISTENTE       bool\n",
            "IN_AUDITORIO                         bool\n",
            "IN_BANHEIRO                          bool\n",
            "IN_BIBLIOTECA                        bool\n",
            "IN_LABORATORIO_INFORMATICA           bool\n",
            "IN_PARQUE_INFANTIL                   bool\n",
            "IN_PISCINA                           bool\n",
            "IN_QUADRA_ESPORTES                   bool\n",
            "IN_REFEITORIO                        bool\n",
            "IN_SALA_LEITURA                      bool\n",
            "IN_SALA_PROFESSOR                    bool\n",
            "IN_ACESSIBILIDADE_INEXISTENTE        bool\n",
            "QT_SALAS_UTILIZADAS                 int64\n",
            "QT_SALAS_UTILIZA_CLIMATIZADAS       int64\n",
            "QT_SALAS_UTILIZADAS_ACESSIVEIS      int64\n",
            "IN_INTERNET                          bool\n",
            "TP_REDE_LOCAL                       int64\n",
            "QT_PROF_ADMINISTRATIVOS             int64\n",
            "QT_PROF_SERVICOS_GERAIS             int64\n",
            "QT_PROF_BIBLIOTECARIO               int64\n",
            "QT_PROF_SAUDE                       int64\n",
            "QT_PROF_ALIMENTACAO                 int64\n",
            "QT_PROF_SEGURANCA                   int64\n",
            "QT_PROF_GESTAO                      int64\n",
            "QT_TUR_FUND                         int64\n",
            "QT_TUR_MED                          int64\n",
            "PIB_MUN                           float64\n",
            "PIB_PC_MUN                        float64\n",
            "TX_EV_TOT                           int64\n",
            "dtype: object\n"
          ]
        }
      ]
    },
    {
      "cell_type": "markdown",
      "source": [
        "## Codificação e normalização"
      ],
      "metadata": {
        "id": "QjcB4-icMpq7"
      }
    },
    {
      "cell_type": "code",
      "source": [],
      "metadata": {
        "id": "z1zvVDCvMrzi"
      },
      "execution_count": null,
      "outputs": []
    },
    {
      "cell_type": "markdown",
      "source": [
        "# Treinar modelo\n",
        "\n",
        "Regressão Linear Multipla: Justificar escolha."
      ],
      "metadata": {
        "id": "G7V1YO6ONWUb"
      }
    },
    {
      "cell_type": "markdown",
      "source": [
        "## Pipeline geral"
      ],
      "metadata": {
        "id": "cjRXjjKqOVD7"
      }
    },
    {
      "cell_type": "code",
      "source": [
        "# Nome das colunas\n",
        "colunas_categoricas = ['grupo_sanguineo', 'fumante']\n",
        "colunas_numericas = ['idade', 'peso', 'altura']\n",
        "colunas_ordinais = ['nivel_atividade_fisica']\n",
        "\n",
        "# Transformer categoricas\n",
        "transformer_categoricas = Pipeline(steps=[\n",
        "    ('imputer', SimpleImputer(strategy='most_frequent')),\n",
        "    ('onehot', OneHotEncoder(handle_unknown='ignore')),\n",
        "])\n",
        "\n",
        "# Transformer ordinais\n",
        "transformer_ordinais = Pipeline(steps=[\n",
        "    ('imputer', SimpleImputer(strategy='most_frequent')),\n",
        "    ('ordinal', OrdinalEncoder(categories=[['Baixo', 'Moderado', 'Alto']], handle_unknown='error')),\n",
        "])\n",
        "\n",
        "# Transformer numericas\n",
        "transformer_numericas = Pipeline(steps=[\n",
        "    ('imputer', SimpleImputer(strategy='median')),\n",
        "    ('scaler', StandardScaler()),\n",
        "])\n",
        "\n",
        "# Criar um columntransformer que encapsula todas as transformações\n",
        "preprocessor = ColumnTransformer(\n",
        "    transformers= [\n",
        "        ('num', transformer_numericas, colunas_numericas),\n",
        "        ('cat', transformer_categoricas, colunas_categoricas),\n",
        "        ('ord', transformer_ordinais, colunas_ordinais),\n",
        "    ]\n",
        ")"
      ],
      "metadata": {
        "id": "1BUAZDAdOSB7"
      },
      "execution_count": null,
      "outputs": []
    },
    {
      "cell_type": "markdown",
      "source": [
        "## Fundamental"
      ],
      "metadata": {
        "id": "bMVdGUztNqNr"
      }
    },
    {
      "cell_type": "code",
      "source": [
        "from sklearn.model_selection import train_test_split\n",
        "from sklearn.linear_model import LinearRegression\n",
        "from sklearn.preprocessing import StandardScaler, OneHotEncoder, OrdinalEncoder\n",
        "from sklearn.compose import ColumnTransformer\n",
        "from sklearn.pipeline import Pipeline\n",
        "from sklearn.impute import SimpleImputer\n",
        "from sklearn.metrics import r2_score, mean_absolute_error, root_mean_squared_error"
      ],
      "metadata": {
        "id": "doVjC8a-NyFE"
      },
      "execution_count": null,
      "outputs": []
    },
    {
      "cell_type": "code",
      "source": [
        "X = df_censo.drop(columns='TX_APROV_FUND', axis=1)\n",
        "y = df_censo['TX_APROV_FUND']\n",
        "X_train, X_test, y_train, y_test = train_test_split(X, y, test_size=0.20, random_state=51)\n",
        "X_train.shape"
      ],
      "metadata": {
        "colab": {
          "base_uri": "https://localhost:8080/"
        },
        "id": "C7IqEdk9NZoD",
        "outputId": "e92b2647-6fdc-4f5d-dd28-e76ca8f9201f"
      },
      "execution_count": null,
      "outputs": [
        {
          "output_type": "execute_result",
          "data": {
            "text/plain": [
              "(91090, 51)"
            ]
          },
          "metadata": {},
          "execution_count": 28
        }
      ]
    },
    {
      "cell_type": "code",
      "source": [
        "# Criando o pipeline principal = Pre processamento + treinamento\n",
        "model_fundamental_regr = Pipeline(steps=[\n",
        "    ('preprocessor', preprocessor),\n",
        "    ('regressor', LinearRegression())\n",
        "])\n",
        "\n",
        "# Treinar modelo\n",
        "model_fundamental_regr.fit(X_train, y_train)"
      ],
      "metadata": {
        "id": "44KfPH91N1my"
      },
      "execution_count": null,
      "outputs": []
    },
    {
      "cell_type": "markdown",
      "source": [
        "### Análise de Explicabilidade (SHAP)"
      ],
      "metadata": {
        "id": "qoK4qF5nT4X5"
      }
    },
    {
      "cell_type": "code",
      "source": [
        "import shap\n",
        "\n",
        "# Criar um objeto explainer\n",
        "explainer = shap.Explainer(model_medio_regr, X)\n",
        "\n",
        "# Calcular os SHAP values para todas as instâncias\n",
        "shap_values = explainer(X)\n",
        "\n",
        "# Summary Plot - Mostra a importância global das variáveis\n",
        "shap.summary_plot(shap_values, X)"
      ],
      "metadata": {
        "id": "ICesdGy2T4X7"
      },
      "execution_count": null,
      "outputs": []
    },
    {
      "cell_type": "code",
      "source": [
        "# Calcular a média dos valores absolutos de SHAP para cada variável\n",
        "shap_abs_mean = pd.DataFrame(shap_values.values, columns=X.columns).abs().mean()\n",
        "\n",
        "# Exibir as variáveis mais influentes\n",
        "shap_abs_mean = shap_abs_mean.sort_values(ascending=False)\n",
        "print(shap_abs_mean)"
      ],
      "metadata": {
        "id": "voqEl3RHT4X8"
      },
      "execution_count": null,
      "outputs": []
    },
    {
      "cell_type": "markdown",
      "source": [
        "As variáveis mais influentes serão aquelas com maior média de contribuição (baseado nos valores SHAP). Interprete essas variáveis com base no seu domínio:\n",
        "\n",
        "Por exemplo, no conjunto de dados de Boston Housing, variáveis como RM (número médio de quartos), LSTAT (percentual de população de baixo status) e TAX (taxa de imposto sobre propriedade) frequentemente têm um grande impacto nas previsões de preço das casas.\n",
        "Se, por exemplo, a variável RM tiver uma contribuição significativa para a previsão, você pode interpretar que o número de quartos tem uma forte relação com o preço da casa."
      ],
      "metadata": {
        "id": "bNN1vfJUT4X8"
      }
    },
    {
      "cell_type": "code",
      "source": [
        "# Visualizar a contribuição de uma instância específica\n",
        "shap.force_plot(shap_values[0], X.iloc[0])"
      ],
      "metadata": {
        "id": "nA2wGOSAT4X9"
      },
      "execution_count": null,
      "outputs": []
    },
    {
      "cell_type": "markdown",
      "source": [
        "### Analise de métricas"
      ],
      "metadata": {
        "id": "m8C0OpcoOr0j"
      }
    },
    {
      "cell_type": "code",
      "source": [
        "# Gerar predição\n",
        "y_pred = model_fundamental_regr.predict(X_test)"
      ],
      "metadata": {
        "id": "dePo7BtKOq7z"
      },
      "execution_count": null,
      "outputs": []
    },
    {
      "cell_type": "code",
      "source": [
        "# Calcular R2 Score\n",
        "r2_score(y_test, y_pred)"
      ],
      "metadata": {
        "id": "shO1eJyVO3Bz"
      },
      "execution_count": null,
      "outputs": []
    },
    {
      "cell_type": "code",
      "source": [
        "# Calcular o MAE (Mean Absoilute Error)\n",
        "mean_absolute_error(y_test, y_pred)"
      ],
      "metadata": {
        "id": "fzFqizq_O2FD"
      },
      "execution_count": null,
      "outputs": []
    },
    {
      "cell_type": "code",
      "source": [
        "# Calcular RMSE (Root Mean Absolute Error)\n",
        "root_mean_squared_error(y_test, y_pred, squared=False)"
      ],
      "metadata": {
        "id": "xPzK6Sc6Ow-r"
      },
      "execution_count": null,
      "outputs": []
    },
    {
      "cell_type": "markdown",
      "source": [
        "### Análise de Resíduos"
      ],
      "metadata": {
        "id": "z1bEI-JPPEKV"
      }
    },
    {
      "cell_type": "code",
      "source": [
        "# Calcular residuos\n",
        "residuos = y_test - y_pred"
      ],
      "metadata": {
        "id": "BqCRAAgPPGTT"
      },
      "execution_count": null,
      "outputs": []
    },
    {
      "cell_type": "code",
      "source": [
        "# Transformar residuos na escala padrão\n",
        "# (X - media) / desvio padrao\n",
        "from scipy.stats import zscore\n",
        "residuos_std = zscore(residuos)"
      ],
      "metadata": {
        "id": "wAi6lPqzPIQ8"
      },
      "execution_count": null,
      "outputs": []
    },
    {
      "cell_type": "code",
      "source": [
        "# Verificar linearidade dos residuos: Valores entre -2 e +2 (Escala padrão)\n",
        "# Verifica homocedasticidade: Valores em torno da reta\n",
        "sns.scatterplot(x=y_pred, y=residuos_std)\n",
        "plt.axhline(y=0)\n",
        "plt.axhline(y=-2)\n",
        "plt.axhline(y=2)"
      ],
      "metadata": {
        "id": "XV9yOvRCPKok"
      },
      "execution_count": null,
      "outputs": []
    },
    {
      "cell_type": "code",
      "source": [
        "# Checar se residuos seguem uma distribuição normal\n",
        "# QQ plot\n",
        "import pingouin as pg\n",
        "plt.figure(figsize=(14,8))\n",
        "pg.qqplot(residuos_std, dist='norm', confidence=0.95)\n",
        "plt.xlabel('Quantis Teóricos')\n",
        "plt.ylabel('Resíduos na escala padrão')\n",
        "plt.show()"
      ],
      "metadata": {
        "id": "hYX-U-yLPM7c"
      },
      "execution_count": null,
      "outputs": []
    },
    {
      "cell_type": "markdown",
      "source": [
        "### Teste de normalidade"
      ],
      "metadata": {
        "id": "DrJQNKXIPLa7"
      }
    },
    {
      "cell_type": "code",
      "source": [
        "# Teste de normalidade de Shapiro-Wilk\n",
        "from scipy.stats import shapiro, kstest, anderson\n",
        "from statsmodels.stats.diagnostic import lilliefors, het_goldfeldquandt\n",
        "\n",
        "stat_shapiro, p_value_shapiro = shapiro(residuos)\n",
        "print(f'Estatistica do teste: {stat_shapiro} e P-value {p_value_shapiro}')"
      ],
      "metadata": {
        "id": "ODWPaIw5PRpD"
      },
      "execution_count": null,
      "outputs": []
    },
    {
      "cell_type": "code",
      "source": [
        "# Teste de kolmogorov-smirnov\n",
        "stat_ks, p_value_ks = kstest(residuos, 'norm')\n",
        "print(f'Estatistica do teste: {stat_ks} e P-value {p_value_ks}')"
      ],
      "metadata": {
        "id": "RjHmJyTuPVrD"
      },
      "execution_count": null,
      "outputs": []
    },
    {
      "cell_type": "code",
      "source": [
        "# Teste de lilliefors\n",
        "stat_ll, p_value_ll = lilliefors(residuos, dist='norm', pvalmethod='table')\n",
        "print(f'Estatistica do teste: {stat_ll} e P-value {p_value_ll}')"
      ],
      "metadata": {
        "id": "jKQwgImYPaHs"
      },
      "execution_count": null,
      "outputs": []
    },
    {
      "cell_type": "code",
      "source": [
        "# Teste de Anderson-Darling\n",
        "stat_ands, critical_and, significance_and = anderson(residuos, dist='norm')"
      ],
      "metadata": {
        "id": "OIHr5heRPa_0"
      },
      "execution_count": null,
      "outputs": []
    },
    {
      "cell_type": "code",
      "source": [
        "# Testes de homocedasticidade de Goldfeld-Quandt\n",
        "pipe = Pipeline(steps=[\n",
        "    ('preprocessor', preprocessor)\n",
        "])\n",
        "X_test_transformed = pipe.fit_transform(X_test)"
      ],
      "metadata": {
        "id": "UqtzGldVPcY1"
      },
      "execution_count": null,
      "outputs": []
    },
    {
      "cell_type": "code",
      "source": [
        "test_goldfeld = het_goldfeldquandt(residuos, X_test_transformed)\n",
        "stat_goldfeld = test_goldfeld[0]\n",
        "p_value_goldfeld = test_goldfeld[1]\n",
        "print(f'Estatistica do teste: {stat_goldfeld} e P-value: {p_value_goldfeld}')"
      ],
      "metadata": {
        "id": "wqKzrpBBPr_j"
      },
      "execution_count": null,
      "outputs": []
    },
    {
      "cell_type": "markdown",
      "source": [
        "### Realizar predições individuais"
      ],
      "metadata": {
        "id": "K8mfT2sDPu7z"
      }
    },
    {
      "cell_type": "code",
      "source": [
        "predicao_individual = {}\n",
        "\n",
        "sample_df = pd.DataFrame(predicao_individual, index=[1])"
      ],
      "metadata": {
        "id": "sT9ycUT5PuRD"
      },
      "execution_count": null,
      "outputs": []
    },
    {
      "cell_type": "markdown",
      "source": [
        "## Ensino Médio"
      ],
      "metadata": {
        "id": "2FTMDntAP94E"
      }
    },
    {
      "cell_type": "code",
      "source": [
        "from sklearn.model_selection import train_test_split\n",
        "from sklearn.linear_model import LinearRegression\n",
        "from sklearn.preprocessing import StandardScaler, OneHotEncoder, OrdinalEncoder\n",
        "from sklearn.compose import ColumnTransformer\n",
        "from sklearn.pipeline import Pipeline\n",
        "from sklearn.impute import SimpleImputer\n",
        "from sklearn.metrics import r2_score, mean_absolute_error, root_mean_squared_error"
      ],
      "metadata": {
        "id": "q4_6To7jP94E"
      },
      "execution_count": null,
      "outputs": []
    },
    {
      "cell_type": "code",
      "source": [
        "X = df_censo.drop(columns='TX_APROV_MED', axis=1)\n",
        "y = df_censo['TX_APROV_MED']\n",
        "X_train, X_test, y_train, y_test = train_test_split(X, y, test_size=0.20, random_state=51)\n",
        "X_train.shape"
      ],
      "metadata": {
        "colab": {
          "base_uri": "https://localhost:8080/"
        },
        "outputId": "e92b2647-6fdc-4f5d-dd28-e76ca8f9201f",
        "id": "DCrcgv9pP94F"
      },
      "execution_count": null,
      "outputs": [
        {
          "output_type": "execute_result",
          "data": {
            "text/plain": [
              "(91090, 51)"
            ]
          },
          "metadata": {},
          "execution_count": 28
        }
      ]
    },
    {
      "cell_type": "code",
      "source": [
        "# Criando o pipeline principal = Pre processamento + treinamento\n",
        "model_medio_regr = Pipeline(steps=[\n",
        "    ('preprocessor', preprocessor),\n",
        "    ('regressor', LinearRegression())\n",
        "])\n",
        "\n",
        "# Treinar modelo\n",
        "model_medio_regr.fit(X_train, y_train)"
      ],
      "metadata": {
        "id": "TatK0Yd7P94F"
      },
      "execution_count": null,
      "outputs": []
    },
    {
      "cell_type": "markdown",
      "source": [
        "### Análise de Explicabilidade (SHAP)"
      ],
      "metadata": {
        "id": "wZ6PFBdQSwNl"
      }
    },
    {
      "cell_type": "code",
      "source": [
        "import shap\n",
        "\n",
        "# Criar um objeto explainer\n",
        "explainer = shap.Explainer(model_medio_regr, X)\n",
        "\n",
        "# Calcular os SHAP values para todas as instâncias\n",
        "shap_values = explainer(X)\n",
        "\n",
        "# Summary Plot - Mostra a importância global das variáveis\n",
        "shap.summary_plot(shap_values, X)"
      ],
      "metadata": {
        "id": "1ZTjae_LSvqU"
      },
      "execution_count": null,
      "outputs": []
    },
    {
      "cell_type": "code",
      "source": [
        "# Calcular a média dos valores absolutos de SHAP para cada variável\n",
        "shap_abs_mean = pd.DataFrame(shap_values.values, columns=X.columns).abs().mean()\n",
        "\n",
        "# Exibir as variáveis mais influentes\n",
        "shap_abs_mean = shap_abs_mean.sort_values(ascending=False)\n",
        "print(shap_abs_mean)"
      ],
      "metadata": {
        "id": "CiIpozbgTerE"
      },
      "execution_count": null,
      "outputs": []
    },
    {
      "cell_type": "markdown",
      "source": [
        "As variáveis mais influentes serão aquelas com maior média de contribuição (baseado nos valores SHAP). Interprete essas variáveis com base no seu domínio:\n",
        "\n",
        "Por exemplo, no conjunto de dados de Boston Housing, variáveis como RM (número médio de quartos), LSTAT (percentual de população de baixo status) e TAX (taxa de imposto sobre propriedade) frequentemente têm um grande impacto nas previsões de preço das casas.\n",
        "Se, por exemplo, a variável RM tiver uma contribuição significativa para a previsão, você pode interpretar que o número de quartos tem uma forte relação com o preço da casa."
      ],
      "metadata": {
        "id": "fdKHfsauThVV"
      }
    },
    {
      "cell_type": "code",
      "source": [
        "# Visualizar a contribuição de uma instância específica\n",
        "shap.force_plot(shap_values[0], X.iloc[0])"
      ],
      "metadata": {
        "id": "CLtrkxyYTirt"
      },
      "execution_count": null,
      "outputs": []
    },
    {
      "cell_type": "markdown",
      "source": [
        "### Analise de métricas"
      ],
      "metadata": {
        "id": "zkTAFwgIP94G"
      }
    },
    {
      "cell_type": "code",
      "source": [
        "# Gerar predição\n",
        "y_pred = model_medio_regr.predict(X_test)"
      ],
      "metadata": {
        "id": "Ka2EdDQBP94G"
      },
      "execution_count": null,
      "outputs": []
    },
    {
      "cell_type": "code",
      "source": [
        "# Calcular R2 Score\n",
        "r2_score(y_test, y_pred)"
      ],
      "metadata": {
        "id": "5IkyOVwWP94G"
      },
      "execution_count": null,
      "outputs": []
    },
    {
      "cell_type": "code",
      "source": [
        "# Calcular o MAE (Mean Absoilute Error)\n",
        "mean_absolute_error(y_test, y_pred)"
      ],
      "metadata": {
        "id": "niCDx98SP94G"
      },
      "execution_count": null,
      "outputs": []
    },
    {
      "cell_type": "code",
      "source": [
        "# Calcular RMSE (Root Mean Absolute Error)\n",
        "root_mean_squared_error(y_test, y_pred, squared=False)"
      ],
      "metadata": {
        "id": "khqW2cwOP94G"
      },
      "execution_count": null,
      "outputs": []
    },
    {
      "cell_type": "markdown",
      "source": [
        "### Análise de Resíduos"
      ],
      "metadata": {
        "id": "BVVdPj6UP94G"
      }
    },
    {
      "cell_type": "code",
      "source": [
        "# Calcular residuos\n",
        "residuos = y_test - y_pred"
      ],
      "metadata": {
        "id": "6e82uBAjP94H"
      },
      "execution_count": null,
      "outputs": []
    },
    {
      "cell_type": "code",
      "source": [
        "# Transformar residuos na escala padrão\n",
        "# (X - media) / desvio padrao\n",
        "from scipy.stats import zscore\n",
        "residuos_std = zscore(residuos)"
      ],
      "metadata": {
        "id": "jZxePZJFP94H"
      },
      "execution_count": null,
      "outputs": []
    },
    {
      "cell_type": "code",
      "source": [
        "# Verificar linearidade dos residuos: Valores entre -2 e +2 (Escala padrão)\n",
        "# Verifica homocedasticidade: Valores em torno da reta\n",
        "sns.scatterplot(x=y_pred, y=residuos_std)\n",
        "plt.axhline(y=0)\n",
        "plt.axhline(y=-2)\n",
        "plt.axhline(y=2)"
      ],
      "metadata": {
        "id": "uykrqHlwP94H"
      },
      "execution_count": null,
      "outputs": []
    },
    {
      "cell_type": "code",
      "source": [
        "# Checar se residuos seguem uma distribuição normal\n",
        "# QQ plot\n",
        "import pingouin as pg\n",
        "plt.figure(figsize=(14,8))\n",
        "pg.qqplot(residuos_std, dist='norm', confidence=0.95)\n",
        "plt.xlabel('Quantis Teóricos')\n",
        "plt.ylabel('Resíduos na escala padrão')\n",
        "plt.show()"
      ],
      "metadata": {
        "id": "CiLRAzQmP94H"
      },
      "execution_count": null,
      "outputs": []
    },
    {
      "cell_type": "markdown",
      "source": [
        "### Teste de normalidade"
      ],
      "metadata": {
        "id": "FplV0iaUP94H"
      }
    },
    {
      "cell_type": "code",
      "source": [
        "# Teste de normalidade de Shapiro-Wilk\n",
        "from scipy.stats import shapiro, kstest, anderson\n",
        "from statsmodels.stats.diagnostic import lilliefors, het_goldfeldquandt\n",
        "\n",
        "stat_shapiro, p_value_shapiro = shapiro(residuos)\n",
        "print(f'Estatistica do teste: {stat_shapiro} e P-value {p_value_shapiro}')"
      ],
      "metadata": {
        "id": "nd5FQhlxP94H"
      },
      "execution_count": null,
      "outputs": []
    },
    {
      "cell_type": "code",
      "source": [
        "# Teste de kolmogorov-smirnov\n",
        "stat_ks, p_value_ks = kstest(residuos, 'norm')\n",
        "print(f'Estatistica do teste: {stat_ks} e P-value {p_value_ks}')"
      ],
      "metadata": {
        "id": "yF_d2PNpP94I"
      },
      "execution_count": null,
      "outputs": []
    },
    {
      "cell_type": "code",
      "source": [
        "# Teste de lilliefors\n",
        "stat_ll, p_value_ll = lilliefors(residuos, dist='norm', pvalmethod='table')\n",
        "print(f'Estatistica do teste: {stat_ll} e P-value {p_value_ll}')"
      ],
      "metadata": {
        "id": "L9OBogXhP94I"
      },
      "execution_count": null,
      "outputs": []
    },
    {
      "cell_type": "code",
      "source": [
        "# Teste de Anderson-Darling\n",
        "stat_ands, critical_and, significance_and = anderson(residuos, dist='norm')"
      ],
      "metadata": {
        "id": "596k74NAP94I"
      },
      "execution_count": null,
      "outputs": []
    },
    {
      "cell_type": "code",
      "source": [
        "# Testes de homocedasticidade de Goldfeld-Quandt\n",
        "pipe = Pipeline(steps=[\n",
        "    ('preprocessor', preprocessor)\n",
        "])\n",
        "X_test_transformed = pipe.fit_transform(X_test)"
      ],
      "metadata": {
        "id": "Vc8j-GYPP94I"
      },
      "execution_count": null,
      "outputs": []
    },
    {
      "cell_type": "code",
      "source": [
        "test_goldfeld = het_goldfeldquandt(residuos, X_test_transformed)\n",
        "stat_goldfeld = test_goldfeld[0]\n",
        "p_value_goldfeld = test_goldfeld[1]\n",
        "print(f'Estatistica do teste: {stat_goldfeld} e P-value: {p_value_goldfeld}')"
      ],
      "metadata": {
        "id": "cKhuib1AP94I"
      },
      "execution_count": null,
      "outputs": []
    },
    {
      "cell_type": "markdown",
      "source": [
        "### Realizar predições individuais"
      ],
      "metadata": {
        "id": "s7mxZHeZP94I"
      }
    },
    {
      "cell_type": "code",
      "source": [
        "predicao_individual = {}\n",
        "\n",
        "sample_df = pd.DataFrame(predicao_individual, index=[1])"
      ],
      "metadata": {
        "id": "z6DlF5uAP94I"
      },
      "execution_count": null,
      "outputs": []
    }
  ]
}